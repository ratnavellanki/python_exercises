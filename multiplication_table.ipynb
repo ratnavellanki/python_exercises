{
 "cells": [
  {
   "cell_type": "code",
   "execution_count": 8,
   "metadata": {},
   "outputs": [
    {
     "name": "stdout",
     "output_type": "stream",
     "text": [
      "Enter the table number: 16\n",
      "Enter the range of multipliers: 30\n",
      "16 * 1 = 16\n",
      "16 * 2 = 32\n",
      "16 * 3 = 48\n",
      "16 * 4 = 64\n",
      "16 * 5 = 80\n",
      "16 * 6 = 96\n",
      "16 * 7 = 112\n",
      "16 * 8 = 128\n",
      "16 * 9 = 144\n",
      "16 * 10 = 160\n",
      "16 * 11 = 176\n",
      "16 * 12 = 192\n",
      "16 * 13 = 208\n",
      "16 * 14 = 224\n",
      "16 * 15 = 240\n",
      "16 * 16 = 256\n",
      "16 * 17 = 272\n",
      "16 * 18 = 288\n",
      "16 * 19 = 304\n",
      "16 * 20 = 320\n",
      "16 * 21 = 336\n",
      "16 * 22 = 352\n",
      "16 * 23 = 368\n",
      "16 * 24 = 384\n",
      "16 * 25 = 400\n",
      "16 * 26 = 416\n",
      "16 * 27 = 432\n",
      "16 * 28 = 448\n",
      "16 * 29 = 464\n",
      "16 * 30 = 480\n"
     ]
    }
   ],
   "source": [
    "number = int(input(\"Enter the table number: \"))\n",
    "table_times = int(input(\"Enter the range of multipliers: \"))\n",
    "for i in range(1,table_times+1):\n",
    "    print(number,\"*\",i,\"=\",number* i)"
   ]
  },
  {
   "cell_type": "code",
   "execution_count": null,
   "metadata": {},
   "outputs": [],
   "source": []
  }
 ],
 "metadata": {
  "kernelspec": {
   "display_name": "Python 3",
   "language": "python",
   "name": "python3"
  },
  "language_info": {
   "codemirror_mode": {
    "name": "ipython",
    "version": 3
   },
   "file_extension": ".py",
   "mimetype": "text/x-python",
   "name": "python",
   "nbconvert_exporter": "python",
   "pygments_lexer": "ipython3",
   "version": "3.7.1"
  }
 },
 "nbformat": 4,
 "nbformat_minor": 2
}
