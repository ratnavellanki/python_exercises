{
 "cells": [
  {
   "cell_type": "code",
   "execution_count": 15,
   "metadata": {},
   "outputs": [
    {
     "name": "stdout",
     "output_type": "stream",
     "text": [
      "Enter a string :supercalifragilisticexpialidocious\n",
      "Enter the character that you want to count :I\n",
      "The total number of characters in the string are 34\n",
      "The total number of times the character of your choice appears is 7\n"
     ]
    }
   ],
   "source": [
    "### Write a python program to count the total and specific number of characters in a string ###\n",
    "### Eg: the length of \"superior is 8 and number of r is 2\"\n",
    "x = input(\"Enter a string :\")\n",
    "y = input (\"Enter the character that you want to count :\")\n",
    "print (\"The total number of characters in the string are %d\" %len(x))\n",
    "### Count the number of characters irrespective of the case\n",
    "print (\"The total number of times the character of your choice appears is %d\" %(x.lower().count(y.lower())))"
   ]
  },
  {
   "cell_type": "code",
   "execution_count": null,
   "metadata": {},
   "outputs": [],
   "source": []
  },
  {
   "cell_type": "code",
   "execution_count": null,
   "metadata": {},
   "outputs": [],
   "source": []
  }
 ],
 "metadata": {
  "kernelspec": {
   "display_name": "Python 3",
   "language": "python",
   "name": "python3"
  },
  "language_info": {
   "codemirror_mode": {
    "name": "ipython",
    "version": 3
   },
   "file_extension": ".py",
   "mimetype": "text/x-python",
   "name": "python",
   "nbconvert_exporter": "python",
   "pygments_lexer": "ipython3",
   "version": "3.7.1"
  }
 },
 "nbformat": 4,
 "nbformat_minor": 2
}
