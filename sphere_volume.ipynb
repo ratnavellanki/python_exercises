{
 "cells": [
  {
   "cell_type": "code",
   "execution_count": 4,
   "metadata": {},
   "outputs": [],
   "source": [
    "## Exercise from Udemy Complete Python boot camp: Go from zero to hero by Jose Portilla ###\n",
    "from math import *\n",
    "def rad_sphere():\n",
    "    r = float(input(\"Enter the radius: \"))\n",
    "    vol = (4/3)*pi*r**3\n",
    "    print(vol)\n",
    "    ta = input(\"Want to try another number? \")\n",
    "    if ta.lower() == \"y\":\n",
    "        rad_sphere()"
   ]
  },
  {
   "cell_type": "code",
   "execution_count": 5,
   "metadata": {},
   "outputs": [
    {
     "name": "stdout",
     "output_type": "stream",
     "text": [
      "Enter the radius: 2\n",
      "33.510321638291124\n",
      "Want to try another number? Y\n",
      "Enter the radius: 5\n",
      "523.5987755982989\n",
      "Want to try another number? n\n"
     ]
    }
   ],
   "source": [
    "rad_sphere()"
   ]
  }
 ],
 "metadata": {
  "kernelspec": {
   "display_name": "Python 3",
   "language": "python",
   "name": "python3"
  },
  "language_info": {
   "codemirror_mode": {
    "name": "ipython",
    "version": 3
   },
   "file_extension": ".py",
   "mimetype": "text/x-python",
   "name": "python",
   "nbconvert_exporter": "python",
   "pygments_lexer": "ipython3",
   "version": "3.7.1"
  }
 },
 "nbformat": 4,
 "nbformat_minor": 2
}
