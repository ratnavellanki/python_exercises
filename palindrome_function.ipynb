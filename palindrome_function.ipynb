{
 "cells": [
  {
   "cell_type": "code",
   "execution_count": 1,
   "metadata": {},
   "outputs": [],
   "source": [
    "### Create a Program in python to check if a string is a Palindrome: ###\n",
    "### A Palindrome is a string that reads the same forward and backwards ###\n",
    "### Eg: Wow ###\n",
    "### Method 2 : Create a function ###\n",
    "def palindrome(mystring):\n",
    "   ## mystring = input(\"Enter a string: \")\n",
    "    if mystring.lower()[::-1]==mystring.lower():\n",
    "        print(\"This is a palindrome\")\n",
    "    else:\n",
    "        print(\"Not a Palindrome\")"
   ]
  },
  {
   "cell_type": "code",
   "execution_count": 3,
   "metadata": {},
   "outputs": [
    {
     "name": "stdout",
     "output_type": "stream",
     "text": [
      "Not a Palindrome\n"
     ]
    }
   ],
   "source": [
    "palindrome(\"test\")"
   ]
  }
 ],
 "metadata": {
  "kernelspec": {
   "display_name": "Python 3",
   "language": "python",
   "name": "python3"
  },
  "language_info": {
   "codemirror_mode": {
    "name": "ipython",
    "version": 3
   },
   "file_extension": ".py",
   "mimetype": "text/x-python",
   "name": "python",
   "nbconvert_exporter": "python",
   "pygments_lexer": "ipython3",
   "version": "3.7.1"
  }
 },
 "nbformat": 4,
 "nbformat_minor": 2
}
